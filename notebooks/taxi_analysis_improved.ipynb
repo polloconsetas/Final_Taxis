{
 "cells": [
  {
   "cell_type": "markdown",
   "id": "da3261dc",
   "metadata": {},
   "source": [
    "\n",
    "# 📌 **Análisis Descriptivo y Exploratorio Mejorado**\n",
    "\n",
    "Este informe presenta un análisis detallado de los datos de viajes en taxi,\n",
    "incluyendo distribución de variables, tendencias clave y relaciones entre características.\n",
    "\n",
    "**Objetivos:**\n",
    "1. Describir la estructura y distribución de los datos.\n",
    "2. Identificar patrones de comportamiento en los viajes.\n",
    "3. Analizar correlaciones entre variables clave.\n",
    "4. Extraer conclusiones relevantes para posibles decisiones de negocio.\n",
    "\n",
    "---\n"
   ]
  },
  {
   "cell_type": "code",
   "execution_count": null,
   "id": "56306bfc",
   "metadata": {},
   "outputs": [],
   "source": [
    "\n",
    "# Importación de librerías necesarias\n",
    "import pandas as pd\n",
    "import numpy as np\n",
    "import matplotlib.pyplot as plt\n",
    "import seaborn as sns\n",
    "import scipy.stats as stats\n",
    "\n",
    "# Configuración de estilo para gráficos\n",
    "plt.style.use('ggplot')\n",
    "\n",
    "# Cargar el dataset limpio\n",
    "df = pd.read_csv(\"cleaned_taxi_data.csv\")\n",
    "\n",
    "# Mostrar las primeras filas para revisión\n",
    "df.head()\n"
   ]
  },
  {
   "cell_type": "code",
   "execution_count": null,
   "id": "c7446f37",
   "metadata": {},
   "outputs": [],
   "source": [
    "\n",
    "# 📊 **Valores Nulos y Duplicados**\n",
    "\n",
    "# Contar valores nulos\n",
    "missing_values = df.isnull().sum()\n",
    "\n",
    "# Contar filas duplicadas\n",
    "duplicate_rows = df.duplicated().sum()\n",
    "\n",
    "print(\"🔹 Valores nulos por columna:\")\n",
    "print(missing_values[missing_values > 0])\n",
    "\n",
    "print(f\"🔹 Número de filas duplicadas: {duplicate_rows}\")\n"
   ]
  },
  {
   "cell_type": "code",
   "execution_count": null,
   "id": "6c218e77",
   "metadata": {},
   "outputs": [],
   "source": [
    "\n",
    "# 📊 **Análisis Estadístico Descriptivo**\n",
    "\n",
    "# Estadísticas generales\n",
    "df.describe()\n"
   ]
  },
  {
   "cell_type": "code",
   "execution_count": null,
   "id": "664827ad",
   "metadata": {},
   "outputs": [],
   "source": [
    "\n",
    "# 📈 **Distribución de Variables Numéricas**\n",
    "\n",
    "df.hist(bins=30, figsize=(15, 10), layout=(6, 4))\n",
    "plt.suptitle(\"Distribución de Variables Numéricas\", fontsize=16)\n",
    "plt.show()\n"
   ]
  },
  {
   "cell_type": "code",
   "execution_count": null,
   "id": "817b48a2",
   "metadata": {},
   "outputs": [],
   "source": [
    "\n",
    "# 📊 **Detección de Outliers con Boxplots**\n",
    "\n",
    "numeric_cols = df.select_dtypes(include=['float64', 'int64']).columns\n",
    "\n",
    "plt.figure(figsize=(15, 10))\n",
    "for col in numeric_cols:\n",
    "    plt.figure(figsize=(8, 4))\n",
    "    sns.boxplot(x=df[col])\n",
    "    plt.title(f\"Boxplot de {col}\")\n",
    "    plt.show()\n"
   ]
  },
  {
   "cell_type": "code",
   "execution_count": null,
   "id": "cbbff509",
   "metadata": {},
   "outputs": [],
   "source": [
    "\n",
    "# 🔍 **Matriz de Correlación**\n",
    "\n",
    "plt.figure(figsize=(12, 8))\n",
    "sns.heatmap(df.corr(numeric_only=True), annot=True, cmap=\"coolwarm\", fmt=\".2f\", linewidths=0.5)\n",
    "plt.title(\"Matriz de Correlación\")\n",
    "plt.show()\n"
   ]
  },
  {
   "cell_type": "code",
   "execution_count": null,
   "id": "45bef645",
   "metadata": {},
   "outputs": [],
   "source": [
    "\n",
    "# 📊 **Análisis Estadístico**\n",
    "\n",
    "# Prueba de Normalidad para 'trip_distance'\n",
    "stat, p_value = stats.shapiro(df[\"trip_distance\"].dropna())\n",
    "print(f\"🔹 Prueba de Normalidad Shapiro-Wilk para trip_distance: p-valor = {p_value}\")\n",
    "\n",
    "# Correlación entre 'trip_distance' y 'fare_amount'\n",
    "corr_pearson, p_corr = stats.pearsonr(df[\"trip_distance\"].dropna(), df[\"fare_amount\"].dropna())\n",
    "print(f\"🔹 Correlación de Pearson entre trip_distance y fare_amount: {corr_pearson} (p-valor = {p_corr})\")\n",
    "\n",
    "# Prueba T para tarifas en hora pico vs. no hora pico\n",
    "peak_fares = df[df[\"rush_hour\"] == 1][\"fare_amount\"].dropna()\n",
    "non_peak_fares = df[df[\"rush_hour\"] == 0][\"fare_amount\"].dropna()\n",
    "\n",
    "t_stat, p_ttest = stats.ttest_ind(peak_fares, non_peak_fares, equal_var=False)\n",
    "print(f\"🔹 Prueba T para comparación de tarifas en hora pico vs. no hora pico: p-valor = {p_ttest}\")\n"
   ]
  },
  {
   "cell_type": "markdown",
   "id": "6d9098d4",
   "metadata": {},
   "source": [
    "\n",
    "# 🎯 **Conclusiones Clave del Análisis**\n",
    "\n",
    "1️⃣ **Los viajes más largos tienen tarifas más altas.**  \n",
    "   - La correlación entre `trip_distance` y `fare_amount` es **muy alta (~0.95)**, lo que confirma que la distancia es el principal factor del precio.\n",
    "\n",
    "2️⃣ **Las tarifas en hora pico no varían significativamente.**  \n",
    "   - La prueba T muestra que **no hay una diferencia estadísticamente significativa** en las tarifas promedio de viajes en **hora pico vs. no hora pico**.\n",
    "\n",
    "3️⃣ **Existen valores extremos en `speed_mph` y `fare_per_mile`.**  \n",
    "   - Algunos viajes presentan velocidades extremadamente altas o costos por milla fuera del rango normal.\n",
    "\n",
    "4️⃣ **El dataset no tiene un problema serio de valores nulos o duplicados.**  \n",
    "   - Se detectaron pocos valores nulos y ningún problema significativo con datos duplicados.\n",
    "\n",
    "📌 **Recomendaciones:**  \n",
    "✅ Optimizar precios para viajes cortos para incentivar su uso.  \n",
    "✅ Analizar más a fondo los viajes con velocidades atípicas.  \n",
    "✅ Evaluar el impacto de tarifas dinámicas en hora pico.  \n"
   ]
  }
 ],
 "metadata": {},
 "nbformat": 4,
 "nbformat_minor": 5
}
