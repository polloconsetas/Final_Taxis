{
 "cells": [
  {
   "cell_type": "code",
   "execution_count": null,
   "id": "a151f37d",
   "metadata": {},
   "outputs": [],
   "source": [
    "\n",
    "# Importación de librerías necesarias\n",
    "import pandas as pd\n",
    "import numpy as np\n",
    "import matplotlib.pyplot as plt\n",
    "import seaborn as sns\n",
    "import scipy.stats as stats\n",
    "\n",
    "# Configuración de estilo para gráficos\n",
    "plt.style.use('ggplot')\n"
   ]
  },
  {
   "cell_type": "code",
   "execution_count": null,
   "id": "777ce095",
   "metadata": {},
   "outputs": [],
   "source": [
    "\n",
    "# Cargar el dataset limpio generado previamente\n",
    "df = pd.read_csv(\"cleaned_taxi_data.csv\")\n",
    "\n",
    "# Mostrar las primeras filas para revisión\n",
    "df.head()\n"
   ]
  },
  {
   "cell_type": "code",
   "execution_count": null,
   "id": "6f8da97a",
   "metadata": {},
   "outputs": [],
   "source": [
    "\n",
    "# Análisis Descriptivo de los Datos\n",
    "\n",
    "# Resumen general del dataset\n",
    "print(\"Información del Dataset:\")\n",
    "df.info()\n",
    "\n",
    "# Estadísticas descriptivas generales\n",
    "df.describe()\n"
   ]
  },
  {
   "cell_type": "code",
   "execution_count": null,
   "id": "5ab5fabe",
   "metadata": {},
   "outputs": [],
   "source": [
    "\n",
    "# Visualización de la distribución de variables numéricas\n",
    "\n",
    "df.hist(bins=30, figsize=(15, 10), layout=(6, 4))\n",
    "plt.suptitle(\"Distribución de Variables Numéricas\", fontsize=16)\n",
    "plt.show()\n"
   ]
  },
  {
   "cell_type": "code",
   "execution_count": null,
   "id": "949d842b",
   "metadata": {},
   "outputs": [],
   "source": [
    "\n",
    "# Tablas de Frecuencia para Variables Categóricas\n",
    "\n",
    "categorical_cols = df.select_dtypes(include=['object', 'category']).columns\n",
    "\n",
    "for col in categorical_cols:\n",
    "    print(f\"Frecuencia de valores en {col}:\")\n",
    "    print(df[col].value_counts())\n",
    "    print(\"-\" * 40)\n"
   ]
  },
  {
   "cell_type": "code",
   "execution_count": null,
   "id": "9d21aafe",
   "metadata": {},
   "outputs": [],
   "source": [
    "\n",
    "# Matriz de Correlación\n",
    "plt.figure(figsize=(12, 8))\n",
    "sns.heatmap(df.corr(numeric_only=True), annot=True, cmap=\"coolwarm\", fmt=\".2f\", linewidths=0.5)\n",
    "plt.title(\"Matriz de Correlación\")\n",
    "plt.show()\n"
   ]
  },
  {
   "cell_type": "code",
   "execution_count": null,
   "id": "acfb869e",
   "metadata": {},
   "outputs": [],
   "source": [
    "\n",
    "# Análisis Estadístico\n",
    "\n",
    "# Prueba de Normalidad para 'trip_distance'\n",
    "stat, p_value = stats.shapiro(df[\"trip_distance\"].dropna())\n",
    "print(f\"Prueba de Normalidad Shapiro-Wilk para trip_distance: p-valor = {p_value}\")\n",
    "\n",
    "# Prueba de correlación entre 'trip_distance' y 'fare_amount'\n",
    "corr_pearson, p_corr = stats.pearsonr(df[\"trip_distance\"].dropna(), df[\"fare_amount\"].dropna())\n",
    "print(f\"Correlación de Pearson entre trip_distance y fare_amount: {corr_pearson} (p-valor = {p_corr})\")\n",
    "\n",
    "# Prueba t de comparación de medias entre viajes en hora pico y no hora pico\n",
    "peak_fares = df[df[\"rush_hour\"] == 1][\"fare_amount\"].dropna()\n",
    "non_peak_fares = df[df[\"rush_hour\"] == 0][\"fare_amount\"].dropna()\n",
    "\n",
    "t_stat, p_ttest = stats.ttest_ind(peak_fares, non_peak_fares, equal_var=False)\n",
    "print(f\"Prueba T para comparación de tarifas en hora pico vs. no hora pico: p-valor = {p_ttest}\")\n"
   ]
  },
  {
   "cell_type": "code",
   "execution_count": null,
   "id": "91deeb61",
   "metadata": {},
   "outputs": [],
   "source": [
    "\n",
    "# Guardar estadísticas descriptivas en un archivo CSV\n",
    "df.describe().to_csv(\"descriptive_stats.csv\")\n",
    "print(\"Estadísticas descriptivas guardadas en 'descriptive_stats.csv'\")\n"
   ]
  }
 ],
 "metadata": {},
 "nbformat": 4,
 "nbformat_minor": 5
}
