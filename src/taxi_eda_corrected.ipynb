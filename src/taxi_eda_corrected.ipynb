{
 "cells": [
  {
   "cell_type": "code",
   "execution_count": null,
   "id": "f957664f",
   "metadata": {},
   "outputs": [],
   "source": [
    "\n",
    "# Importación de librerías necesarias\n",
    "import pandas as pd\n",
    "import numpy as np\n",
    "import matplotlib.pyplot as plt\n",
    "import seaborn as sns\n",
    "\n",
    "# Configuración de visualización\n",
    "plt.style.use('ggplot')\n"
   ]
  },
  {
   "cell_type": "code",
   "execution_count": null,
   "id": "9cc7f0e3",
   "metadata": {},
   "outputs": [],
   "source": [
    "\n",
    "# Cargar los datos originales\n",
    "file_2015 = \"yellow_tripdata_201501_reducido.csv\"\n",
    "file_2016 = \"yellow_tripdata_201601_reducido.csv\"\n",
    "\n",
    "df_2015 = pd.read_csv(file_2015)\n",
    "df_2016 = pd.read_csv(file_2016)\n",
    "\n",
    "# Concatenar ambos datasets\n",
    "df = pd.concat([df_2015, df_2016], ignore_index=True)\n",
    "\n",
    "# Mostrar estructura del dataset\n",
    "df.head()\n"
   ]
  },
  {
   "cell_type": "code",
   "execution_count": null,
   "id": "c054bc77",
   "metadata": {},
   "outputs": [],
   "source": [
    "\n",
    "# Análisis de valores nulos y duplicados\n",
    "print(\"Valores Nulos por columna:\")\n",
    "print(df.isnull().sum())\n",
    "\n",
    "print(\"\\nNúmero de filas duplicadas:\", df.duplicated().sum())\n"
   ]
  },
  {
   "cell_type": "code",
   "execution_count": null,
   "id": "f3ee802a",
   "metadata": {},
   "outputs": [],
   "source": [
    "\n",
    "# Estadísticas descriptivas\n",
    "df.describe()\n"
   ]
  },
  {
   "cell_type": "code",
   "execution_count": null,
   "id": "3fad645a",
   "metadata": {},
   "outputs": [],
   "source": [
    "\n",
    "# Visualización de la distribución de variables numéricas\n",
    "df.hist(bins=30, figsize=(15, 10), layout=(6, 4))\n",
    "plt.suptitle(\"Distribución de Variables Numéricas\", fontsize=16)\n",
    "plt.show()\n"
   ]
  },
  {
   "cell_type": "code",
   "execution_count": null,
   "id": "e214afba",
   "metadata": {},
   "outputs": [],
   "source": [
    "\n",
    "# Boxplots para detección de outliers\n",
    "numeric_cols = df.select_dtypes(include=['float64', 'int64']).columns\n",
    "\n",
    "plt.figure(figsize=(15, 10))\n",
    "for col in numeric_cols:\n",
    "    plt.figure(figsize=(8, 4))\n",
    "    sns.boxplot(x=df[col])\n",
    "    plt.title(f\"Boxplot de {col}\")\n",
    "    plt.show()\n"
   ]
  },
  {
   "cell_type": "code",
   "execution_count": null,
   "id": "48350f0b",
   "metadata": {},
   "outputs": [],
   "source": [
    "\n",
    "# Matriz de Correlación\n",
    "plt.figure(figsize=(12, 8))\n",
    "sns.heatmap(df.corr(numeric_only=True), annot=True, cmap=\"coolwarm\", fmt=\".2f\", linewidths=0.5)\n",
    "plt.title(\"Matriz de Correlación\")\n",
    "plt.show()\n"
   ]
  },
  {
   "cell_type": "code",
   "execution_count": null,
   "id": "b56d129e",
   "metadata": {},
   "outputs": [],
   "source": [
    "\n",
    "# Limpieza y Transformación de Datos\n",
    "\n",
    "# Convertir fechas a formato datetime\n",
    "df[\"tpep_pickup_datetime\"] = pd.to_datetime(df[\"tpep_pickup_datetime\"], errors='coerce')\n",
    "df[\"tpep_dropoff_datetime\"] = pd.to_datetime(df[\"tpep_dropoff_datetime\"], errors='coerce')\n",
    "\n",
    "# Crear nuevas columnas\n",
    "df[\"trip_duration\"] = (df[\"tpep_dropoff_datetime\"] - df[\"tpep_pickup_datetime\"]).dt.total_seconds() / 60\n",
    "df[\"speed_mph\"] = (df[\"trip_distance\"] / df[\"trip_duration\"]) * 60\n",
    "\n",
    "# Manejo de valores extremos en velocidad\n",
    "df[\"speed_mph\"] = df[\"speed_mph\"].replace([np.inf, -np.inf], np.nan)\n",
    "df[\"speed_mph\"] = df[\"speed_mph\"].fillna(df[\"speed_mph\"].median())\n",
    "\n",
    "# Variables adicionales\n",
    "df[\"is_weekend\"] = df[\"tpep_pickup_datetime\"].dt.weekday.isin([5, 6]).astype(int)\n",
    "df[\"rush_hour\"] = df[\"tpep_pickup_datetime\"].dt.hour.isin([7, 8, 9, 16, 17, 18]).astype(int)\n",
    "df[\"fare_per_mile\"] = df[\"fare_amount\"] / df[\"trip_distance\"]\n",
    "\n",
    "# Manejo de valores nulos en `fare_per_mile`\n",
    "df[\"fare_per_mile\"] = df[\"fare_per_mile\"].replace([np.inf, -np.inf], np.nan)\n",
    "df[\"fare_per_mile\"] = df[\"fare_per_mile\"].fillna(df[\"fare_per_mile\"].median())\n",
    "\n",
    "# Extraer año y fecha del viaje\n",
    "df[\"Year\"] = df[\"tpep_pickup_datetime\"].dt.year\n",
    "df[\"pickup_date\"] = df[\"tpep_pickup_datetime\"].dt.date\n",
    "\n",
    "# Redondear valores numéricos\n",
    "numeric_cols = df.select_dtypes(include=['float', 'int']).columns\n",
    "df[numeric_cols] = df[numeric_cols].round(2)\n",
    "\n",
    "# Mostrar las nuevas columnas creadas\n",
    "df.head()\n"
   ]
  },
  {
   "cell_type": "code",
   "execution_count": null,
   "id": "2444ec19",
   "metadata": {},
   "outputs": [],
   "source": [
    "\n",
    "# Guardar el dataset limpio\n",
    "df.to_csv(\"cleaned_taxi_data.csv\", index=False)\n",
    "print(\"Dataset limpio guardado como 'cleaned_taxi_data.csv'\")\n"
   ]
  }
 ],
 "metadata": {},
 "nbformat": 4,
 "nbformat_minor": 5
}
